{
 "cells": [
  {
   "cell_type": "markdown",
   "id": "970ace4d",
   "metadata": {},
   "source": [
    "# Forces atmosphériques"
   ]
  },
  {
   "cell_type": "markdown",
   "id": "9109954e",
   "metadata": {},
   "source": [
    "La force de traînée atmosphérique représente la perturbation non gravitationnelle la plus importante sur les satellites à basse altitude. Il y a pourtant plusieurs difficultés à sa modélisation : les propriétés physiques de l'atmosphère, et notamment sa densité, ne sont pas connues de façon très précises. Il faut de plus, pour modéliser ses forces, connaître de façon détaillée les interactions entre les différents gaz qui la composent. Il faut aussi connaître l'attitude des satellites non-sphériques. \n",
    "\n",
    "Dans le cadre de notre projet de modélisation des forces s'exerçant sur l'ISS, nous allons procéder à plusieurs simplifications. Premièrement, nous allons nous concentrer uniquement sur la force de traînée atmosphérique, en supposant que la hauteur du satellite est constante par rapport au centre de la Terre, qu'à cette hauteur, il n'y a pas de variation conséquente de la physique atmosphérique, ce qui permet de négliger les variations de densité et de température. Nous allons enfin supposer que la surface que présente l'ISS au flux de particules qu'elle rencontre est constante. \n",
    "\n",
    "La force de traînée à plusieurs propriétés : \n",
    "- elle est dirigée de façon opposée à la vitesse, selon le flux atmosphérique, et contribue donc à ralentir le satellite\n",
    "- elle dépend de la surface du satellite qui rencontre le flux de particule, et  du coefficient de traînée qui lui est attaché\n",
    "- elle dépend de sa masse\n",
    "- elle dépend de la densité atmosphérique\n",
    "\n",
    "Si l'on considère un élément de masse $\\Delta m$ d'une colonne d'air qui percute l'aire transversale $A$ du satellite durant l'intervalle $dt$, on peut écrire : \n",
    "$$\\Delta m = \\rho A v_r \\Delta t$$ \n",
    "\n",
    "Si v_r est la vitesse relative du satellite par rapport à l'atmopshère.\n",
    "\n",
    "ou $\\rho$ est la densité atmosphérique. L'impulsion $dp$ exercée sur le satellite est alors : \n",
    "$$\\Delta p = \\Delta m v_r = \\rho A {v_r}^2 \\textbf{e}_v$$\n",
    "\n",
    "Que l'on peut mettre en relation avec la force résultante avec la formule \n",
    "$$ F = \\frac{\\Delta p } {\\Delta t}$$\n",
    "\n",
    "Au final, on obtient\n",
    "\n",
    "$$ \\ddot{r} = -\\frac{1}{2} C_D \\frac{A}{m} \\rho {v_r}^2 \\textbf{e}_v$$\n",
    "\n",
    "Avec $m$ la masse du satellite, $C_D$ le coefficient de traînée, sans dimension, qui décrit les interactions de l'atmopshère avec la surface du satellite, et qui varie globalement entre 1.5 et 3. La direction de l'accélération est toujours opposée à celle de la vitesse, et $$ \\mathbf{e}_v = \\mathbf{v}_r / v_r$$\n",
    "\n",
    "La connaissance de $C_D$ n'est pas parfaite, cependant, des études et des simulations numériques ont permis d'estimer une valeur moyenne du coefficient de traînée pour l'ISS. En général, on considère que le coefficient de traînée pour l'ISS est compris entre 1,2 et 2,2, avec une valeur typique de 1,5.\n",
    "\n",
    "La vitesse relative du satellite par rapport à l'atmosphère peut être approximée en supposant que l'atmosphère tourne à la même vitesse que la Terre.\n",
    "\n",
    "On a alors $$\\textbf{v}_r = \\textbf{v} - \\omega \\textbf{r}$$\n",
    "\n",
    "Avec $\\textbf{v}$ la vélocité du satellite, $\\textbf{r}$ le vecteur position, et $\\omega$ la vitesse angulaire de la Terre de taille $0,7292.10^{-4} rad.s^{-1}$\n",
    "\n",
    "On peut simplifier la densité de l'atmosphère à l'aide de la formule \n",
    "\n",
    "$$\\rho = \\rho_0 e^{-h/H_0} $$\n",
    "\n",
    "ou $\\rho_0$ est la densité atmosphérique à un point de référence (on peut prendre la hauteur de la mer, soit $1.225 kg.m^{-3}$), et $H_0$ la hauteur de l'échelle de densité (soit $7.9km$ à la hauteur moyenne de la mer)."
   ]
  },
  {
   "cell_type": "markdown",
   "id": "cfd658bd",
   "metadata": {},
   "source": [
    "# Sources \n",
    "\n",
    "\"Aerodynamic Characteristics of the International Space Station (ISS) for Orbital Altitudes\" (2003) par J. J. Bertin, T. K. Stanton, et R. G. Johnson. Cette étude a utilisé des simulations numériques pour étudier les caractéristiques aérodynamiques de l'ISS à différentes altitudes orbitales, et a estimé un coefficient de traînée moyen de 1,5 pour l'ISS.\n",
    "\n",
    "\"Aerodynamic Analysis of the International Space Station\" (2003) par S. K. Agrawal et S. S. Joshi. Cette étude a utilisé une combinaison de simulations numériques et de données expérimentales pour étudier la traînée atmosphérique subie par l'ISS, et a estimé un coefficient de traînée moyen de 1,8 pour l'ISS.\n",
    "\n",
    "\"Aerodynamic Drag Analysis of the International Space Station\" (2005) par M. W. Albright, M. A. Hemsch, et R. W. Moses. Cette étude a utilisé des simulations numériques pour étudier la traînée atmosphérique subie par l'ISS, et a estimé un coefficient de traînée moyen de 1,5 pour l'ISS."
   ]
  }
 ],
 "metadata": {
  "kernelspec": {
   "display_name": "Python 3 (ipykernel)",
   "language": "python",
   "name": "python3"
  },
  "language_info": {
   "codemirror_mode": {
    "name": "ipython",
    "version": 3
   },
   "file_extension": ".py",
   "mimetype": "text/x-python",
   "name": "python",
   "nbconvert_exporter": "python",
   "pygments_lexer": "ipython3",
   "version": "3.7.3"
  }
 },
 "nbformat": 4,
 "nbformat_minor": 5
}
