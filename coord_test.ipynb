{
 "cells": [
  {
   "cell_type": "markdown",
   "id": "d615d79a",
   "metadata": {},
   "source": [
    "# Test de lecture et conversion des coordonnées de l'ISS"
   ]
  },
  {
   "cell_type": "code",
   "execution_count": 19,
   "id": "0d1e466f",
   "metadata": {},
   "outputs": [
    {
     "data": {
      "text/html": [
       "<div>\n",
       "<style scoped>\n",
       "    .dataframe tbody tr th:only-of-type {\n",
       "        vertical-align: middle;\n",
       "    }\n",
       "\n",
       "    .dataframe tbody tr th {\n",
       "        vertical-align: top;\n",
       "    }\n",
       "\n",
       "    .dataframe thead th {\n",
       "        text-align: right;\n",
       "    }\n",
       "</style>\n",
       "<table border=\"1\" class=\"dataframe\">\n",
       "  <thead>\n",
       "    <tr style=\"text-align: right;\">\n",
       "      <th></th>\n",
       "      <th>datetime</th>\n",
       "      <th>x</th>\n",
       "      <th>y</th>\n",
       "      <th>z</th>\n",
       "      <th>vx</th>\n",
       "      <th>vy</th>\n",
       "      <th>vz</th>\n",
       "    </tr>\n",
       "  </thead>\n",
       "  <tbody>\n",
       "    <tr>\n",
       "      <th>0</th>\n",
       "      <td>2023-03-24 18:41:29.004</td>\n",
       "      <td>4482.285420</td>\n",
       "      <td>-1945.879050</td>\n",
       "      <td>-4735.454317</td>\n",
       "      <td>5.092194</td>\n",
       "      <td>4.987269</td>\n",
       "      <td>2.771175</td>\n",
       "    </tr>\n",
       "    <tr>\n",
       "      <th>1</th>\n",
       "      <td>2023-03-24 18:45:29.004</td>\n",
       "      <td>5527.582022</td>\n",
       "      <td>-693.041910</td>\n",
       "      <td>-3906.729727</td>\n",
       "      <td>3.565402</td>\n",
       "      <td>5.389738</td>\n",
       "      <td>4.093092</td>\n",
       "    </tr>\n",
       "    <tr>\n",
       "      <th>2</th>\n",
       "      <td>2023-03-24 18:49:29.004</td>\n",
       "      <td>6172.791603</td>\n",
       "      <td>609.934836</td>\n",
       "      <td>-2794.459786</td>\n",
       "      <td>1.778186</td>\n",
       "      <td>5.402386</td>\n",
       "      <td>5.119574</td>\n",
       "    </tr>\n",
       "    <tr>\n",
       "      <th>3</th>\n",
       "      <td>2023-03-24 18:53:29.004</td>\n",
       "      <td>6370.538918</td>\n",
       "      <td>1868.675170</td>\n",
       "      <td>-1479.074801</td>\n",
       "      <td>-0.140821</td>\n",
       "      <td>5.023142</td>\n",
       "      <td>5.775192</td>\n",
       "    </tr>\n",
       "    <tr>\n",
       "      <th>4</th>\n",
       "      <td>2023-03-24 18:57:29.004</td>\n",
       "      <td>6105.797591</td>\n",
       "      <td>2991.735742</td>\n",
       "      <td>-56.034355</td>\n",
       "      <td>-2.052317</td>\n",
       "      <td>4.278463</td>\n",
       "      <td>6.011005</td>\n",
       "    </tr>\n",
       "  </tbody>\n",
       "</table>\n",
       "</div>"
      ],
      "text/plain": [
       "                 datetime            x            y            z        vx  \\\n",
       "0 2023-03-24 18:41:29.004  4482.285420 -1945.879050 -4735.454317  5.092194   \n",
       "1 2023-03-24 18:45:29.004  5527.582022  -693.041910 -3906.729727  3.565402   \n",
       "2 2023-03-24 18:49:29.004  6172.791603   609.934836 -2794.459786  1.778186   \n",
       "3 2023-03-24 18:53:29.004  6370.538918  1868.675170 -1479.074801 -0.140821   \n",
       "4 2023-03-24 18:57:29.004  6105.797591  2991.735742   -56.034355 -2.052317   \n",
       "\n",
       "         vy        vz  \n",
       "0  4.987269  2.771175  \n",
       "1  5.389738  4.093092  \n",
       "2  5.402386  5.119574  \n",
       "3  5.023142  5.775192  \n",
       "4  4.278463  6.011005  "
      ]
     },
     "execution_count": 19,
     "metadata": {},
     "output_type": "execute_result"
    }
   ],
   "source": [
    "import pandas as pd\n",
    "# data from ISS.OEM_J2K_EPH.txt\n",
    "df = pd.read_csv(\"ISS.OEM_J2K_EPH.txt\", skiprows=41,\n",
    "                 sep=\" \", names=['datetime', 'x', 'y', 'z', 'vx', 'vy', 'vz'],\n",
    "                 parse_dates=[0], infer_datetime_format=True)\n",
    "df.head()"
   ]
  },
  {
   "cell_type": "markdown",
   "id": "a77968bc",
   "metadata": {},
   "source": [
    "## Test one row"
   ]
  },
  {
   "cell_type": "code",
   "execution_count": 7,
   "id": "fe8e33b8",
   "metadata": {},
   "outputs": [
    {
     "data": {
      "text/plain": [
       "<SkyCoord (ICRS): (x, y, z) in km\n",
       "    (4482.28542, -1945.87905, -4735.454317)>"
      ]
     },
     "execution_count": 7,
     "metadata": {},
     "output_type": "execute_result"
    }
   ],
   "source": [
    "from astropy.coordinates import SkyCoord, ICRS, ITRS\n",
    "from astropy import units as u\n",
    "\n",
    "# Sky coordinates from data\n",
    "sc = SkyCoord(x=data.x, y=data.y, z=data.z, unit=u.km,\n",
    "              frame=ICRS, representation_type='cartesian',obstime=data.datetime)\n",
    "sc"
   ]
  },
  {
   "cell_type": "code",
   "execution_count": 11,
   "id": "1b6ed930",
   "metadata": {},
   "outputs": [
    {
     "data": {
      "text/plain": [
       "<SphericalRepresentation (lon, lat, distance) in (rad, rad, km)\n",
       "    (4.55880556, 0.02658149, 1.50487572e+08)>"
      ]
     },
     "execution_count": 11,
     "metadata": {},
     "output_type": "execute_result"
    }
   ],
   "source": [
    "# Ground coordinates from sky coordinates\n",
    "sr = sc.transform_to(ITRS).represent_as('spherical')\n",
    "sr"
   ]
  },
  {
   "cell_type": "code",
   "execution_count": 21,
   "id": "ce5b926f",
   "metadata": {},
   "outputs": [
    {
     "data": {
      "text/latex": [
       "$4.55881\\mathrm{rad}$"
      ],
      "text/plain": [
       "<Longitude 4.55880556 rad>"
      ]
     },
     "execution_count": 21,
     "metadata": {},
     "output_type": "execute_result"
    }
   ],
   "source": [
    "# Longitude (rad)\n",
    "sr.lon"
   ]
  },
  {
   "cell_type": "code",
   "execution_count": 22,
   "id": "953568cc",
   "metadata": {},
   "outputs": [
    {
     "data": {
      "text/plain": [
       "261.2003180310715"
      ]
     },
     "execution_count": 22,
     "metadata": {},
     "output_type": "execute_result"
    }
   ],
   "source": [
    "# Longitude (deg)\n",
    "sr.lon.degree"
   ]
  },
  {
   "cell_type": "markdown",
   "id": "ec1f2c35",
   "metadata": {},
   "source": [
    "## Apply to more"
   ]
  },
  {
   "cell_type": "code",
   "execution_count": 23,
   "id": "3ee07945",
   "metadata": {},
   "outputs": [],
   "source": [
    "def get_earth_coords_from_celestial_point(data):\n",
    "    # coordonnées sidérales depuis les données\n",
    "    sky = SkyCoord(x=data.x, y=data.y, z=data.z, unit=u.km, frame=ICRS,\n",
    "                   representation_type='cartesian',obstime=data.datetime)\n",
    "    # représentation terrestre sphérique\n",
    "    earth = sky.transform_to(ITRS).represent_as('spherical')\n",
    "    # coordonnées planétaires\n",
    "    return earth.lon.degree, earth.lat.degree"
   ]
  },
  {
   "cell_type": "code",
   "execution_count": 24,
   "id": "a9b74cba",
   "metadata": {},
   "outputs": [],
   "source": [
    "df['longitude'], df['latitude'] = df.apply(get_earth_coords_from_celestial_point, axis=1,\n",
    "                                           result_type='expand').transpose().values"
   ]
  },
  {
   "cell_type": "code",
   "execution_count": 25,
   "id": "de725002",
   "metadata": {},
   "outputs": [
    {
     "data": {
      "text/plain": [
       "<AxesSubplot:>"
      ]
     },
     "execution_count": 25,
     "metadata": {},
     "output_type": "execute_result"
    },
    {
     "data": {
      "image/png": "[encoded data removed]",
      "text/plain": [
       "<Figure size 432x288 with 1 Axes>"
      ]
     },
     "metadata": {
      "needs_background": "light"
     },
     "output_type": "display_data"
    }
   ],
   "source": [
    "df['longitude'].plot()"
   ]
  },
  {
   "cell_type": "code",
   "execution_count": 26,
   "id": "5a2a6931",
   "metadata": {},
   "outputs": [
    {
     "data": {
      "text/plain": [
       "<AxesSubplot:>"
      ]
     },
     "execution_count": 26,
     "metadata": {},
     "output_type": "execute_result"
    },
    {
     "data": {
      "image/png": "[encoded data removed]",
      "text/plain": [
       "<Figure size 432x288 with 1 Axes>"
      ]
     },
     "metadata": {
      "needs_background": "light"
     },
     "output_type": "display_data"
    }
   ],
   "source": [
    "df['latitude'].plot()"
   ]
  },
  {
   "cell_type": "code",
   "execution_count": null,
   "id": "c497802c",
   "metadata": {},
   "outputs": [],
   "source": []
  }
 ],
 "metadata": {
  "kernelspec": {
   "display_name": "Python 3 (ipykernel)",
   "language": "python",
   "name": "python3"
  },
  "language_info": {
   "codemirror_mode": {
    "name": "ipython",
    "version": 3
   },
   "file_extension": ".py",
   "mimetype": "text/x-python",
   "name": "python",
   "nbconvert_exporter": "python",
   "pygments_lexer": "ipython3",
   "version": "3.7.3"
  }
 },
 "nbformat": 4,
 "nbformat_minor": 5
}
