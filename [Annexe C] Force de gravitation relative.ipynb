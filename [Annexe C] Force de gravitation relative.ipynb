{
 "cells": [
  {
   "cell_type": "markdown",
   "id": "d492c9e7",
   "metadata": {},
   "source": [
    "# Annexe C : Force de gravitation relative d'un corps sur un satellite en orbite terrestre"
   ]
  },
  {
   "cell_type": "markdown",
   "id": "71ad884e",
   "metadata": {},
   "source": [
    "## Formule générale\n",
    "\n",
    "En application de la loi universelle de la gravitation, l'accélération reçue par un satellite en raison d'un corps de masse $M$ s'exprime telle que :\n",
    "\n",
    "$$\\mathbf{\\ddot r} = GM\\frac{\\mathbf s - \\mathbf r}{\\left|\\mathbf s - \\mathbf r\\right|^3}$$\n",
    "\n",
    "où $G$ est la constante universelle de gravitation, $r$ et $s$ sont les positions respectives du satellite et du corps concerné.\n",
    "\n",
    "Il est à noter que la Terre subit également l'attraction de ce même corps, ce qui se traduit par son accélération telle que :\n",
    "\n",
    "$$\\mathbf{\\ddot r} = GM\\frac{\\mathbf s}{\\left|\\mathbf s\\right|^3}$$\n",
    "\n",
    "En conséquence, la différence entre ces deux expressions représente l'accélération relative reçue par le satellite dans le repère géocentrique (où la Terre est immobile et au repos) :\n",
    "\n",
    "$$\\mathbf{\\ddot r} = GM\\left(\\frac{\\mathbf s - \\mathbf r}{\\left|\\mathbf s - \\mathbf r\\right|^3} - \\frac{\\mathbf s}{\\left|\\mathbf s\\right|^3}\\right)$$"
   ]
  },
  {
   "cell_type": "markdown",
   "id": "0f2843f5",
   "metadata": {},
   "source": [
    "## Approximations\n",
    "\n",
    "Si la distance séparant la Terre du satellite est négligeable devant la distance entre la Terre et le corps concerné (ce qui est le cas pour l'ISS face à la Lune ou au Soleil), on effectue l'approximation suivante :\n",
    "\n",
    "$$\n",
    "\\frac{1}{\\left|\\mathbf s - \\mathbf r\\right|^3}\n",
    "= \\left(\\frac{1}{s^2+r^2-2sr\\left(\\mathbf e_s\\mathbf e_r\\right)}\\right)^{\\frac32}\n",
    "\\approx \\frac{1}{s^3} \\left(1+3\\frac{r}{s}(\\mathbf e_s\\mathbf e_r)\\right)\n",
    "$$\n",
    "\n",
    "où $\\mathbf e_s = \\dfrac{\\mathbf s}s$ et $\\mathbf e_r = \\dfrac{\\mathbf r}r$ sont les vecteurs unitaires, colinéaires à $\\mathbf s$ et $\\mathbf r$.\n",
    "\n",
    "On en déduit ainsi la relation suivante :\n",
    "\n",
    "$$\n",
    "\\mathbf{\\ddot r} = GM\\left(\\frac{\\mathbf s - \\mathbf r}{s^3}\n",
    "\\left(1+3\\frac{r}{s}(\\mathbf e_s\\mathbf e_r)\\right)\n",
    "- \\frac{\\mathbf s}{\\left|\\mathbf s\\right|^3}\\right)\n",
    " = \\frac{GM}{s^3}\\left(\n",
    "-\\mathbf r+\\frac{3r\\left(\\mathbf s - \\mathbf r\\right)}{s}(\\mathbf e_s\\mathbf e_r)\n",
    "\\right)\n",
    " = \\frac{GMr}{s^3}\\left(\n",
    "-\\mathbf e_r+\n",
    "\\left(\n",
    "3\\mathbf e_s -\n",
    "\\frac{3\\mathbf r}{s}\n",
    "\\right)\n",
    "(\\mathbf e_s\\mathbf e_r)\n",
    "\\right)\n",
    "$$\n",
    "\n",
    "Considérant $\\dfrac{3\\mathbf r}s\\approx0$, on obtient la relation d'approximation :\n",
    "\n",
    "$$\n",
    "\\boxed{\\ddot{r} \\approx \\frac{GMr}{s^3}\\big(-\\mathbf e_r + 3\\mathbf e_s \\left(\\mathbf e_s\\mathbf e_r\\right)\\big)}\n",
    "$$"
   ]
  },
  {
   "cell_type": "markdown",
   "id": "0159bf5d",
   "metadata": {},
   "source": [
    "### Cas particuliers\n",
    "\n",
    "Lorsque $\\mathbf e_r \\approx \\pm \\mathbf e_s$, c'est à dire en cas d'alignement des trois corps, $-\\mathbf e_r + 3\\mathbf e_s \\left(\\mathbf e_s\\mathbf e_r\\right) \\approx 2\\mathbf e_r$ et l'expression d'approximation se réduit en :\n",
    "\n",
    "$$ \\mathbf{\\ddot r} \\approx \\frac{2GM}{s^3}\\mathbf r $$\n",
    "\n",
    "et l'attraction relative est dirigée vers le corps concerné.\n",
    "\n",
    "Lorsque $\\mathbf e_s\\mathbf e_r = 0$, c'est-à-dire quand les vecteurs positions sont perpendiculaire :\n",
    "\n",
    "$$ \\mathbf{\\ddot r} \\approx -\\frac{GM}{s^3}\\mathbf r $$\n",
    "\n",
    "l'attraction relative est alors dirigée vers la Terre.\n",
    "\n",
    "**L'accélération, en direction comme en norme, est donc toujours dépendante de $\\mathbf e_s$ et $\\mathbf e_r$ en fonction du temps.**"
   ]
  }
 ],
 "metadata": {
  "kernelspec": {
   "display_name": "Python 3 (ipykernel)",
   "language": "python",
   "name": "python3"
  },
  "language_info": {
   "codemirror_mode": {
    "name": "ipython",
    "version": 3
   },
   "file_extension": ".py",
   "mimetype": "text/x-python",
   "name": "python",
   "nbconvert_exporter": "python",
   "pygments_lexer": "ipython3",
   "version": "3.7.3"
  }
 },
 "nbformat": 4,
 "nbformat_minor": 5
}
