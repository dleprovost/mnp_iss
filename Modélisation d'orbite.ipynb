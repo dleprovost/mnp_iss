{
 "cells": [
  {
   "cell_type": "markdown",
   "id": "397f34bb",
   "metadata": {},
   "source": [
    "# Modélisation d'orbite\n",
    "Orbite :\n",
    "* Demi-grand axe $a$\n",
    "* Excentricité $e$\n",
    "* Inclinaison $i$\n",
    "* Longitude du noeud ascendant $\\Omega$\n",
    "* Argument au périastre $\\omega$\n",
    "\n",
    "Objet sur l'orbite:\n",
    "* Anomalie vraie $\\nu$"
   ]
  },
  {
   "cell_type": "code",
   "execution_count": null,
   "id": "e938d600",
   "metadata": {},
   "outputs": [],
   "source": []
  },
  {
   "cell_type": "markdown",
   "id": "cd741d13",
   "metadata": {},
   "source": [
    "Réllement à faire ? Je ne sais pas encore."
   ]
  }
 ],
 "metadata": {
  "kernelspec": {
   "display_name": "Python 3 (ipykernel)",
   "language": "python",
   "name": "python3"
  },
  "language_info": {
   "codemirror_mode": {
    "name": "ipython",
    "version": 3
   },
   "file_extension": ".py",
   "mimetype": "text/x-python",
   "name": "python",
   "nbconvert_exporter": "python",
   "pygments_lexer": "ipython3",
   "version": "3.7.3"
  }
 },
 "nbformat": 4,
 "nbformat_minor": 5
}
