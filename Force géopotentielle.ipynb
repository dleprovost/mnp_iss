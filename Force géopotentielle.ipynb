{
 "cells": [
  {
   "cell_type": "markdown",
   "id": "d794c654",
   "metadata": {},
   "source": [
    "# Force de gravitation terrestre"
   ]
  },
  {
   "cell_type": "markdown",
   "id": "8c414ab4",
   "metadata": {},
   "source": [
    "Si l'on considère que la masse de la Terre n'est pas uniformément répartie dans une sphère parfaite, on peut choisir d'intégrer le potentiel $U$ de la gravité terrestre pour modéliser sa force d'attraction sur l'ISS.  \n",
    "On a \n",
    "$\\ddot{r}$ = $\\nabla U$, avec $U = GM\\frac{1}{r}$\n",
    "\n",
    "Si on généralise l'expression à une masse arbitraire, \n",
    "$ U = $$\\int \\frac{\\rho(s)d^3s}{|r - s|}$$\n",
    "\n",
    "avec {\\rho(s)} la densité à un point $s$ au sein de la Terre, et $|r - s|$ la distance du satellite au point $s$.\n",
    "\n",
    "\n",
    "\n",
    "\n",
    "\n",
    "\n",
    "\n"
   ]
  },
  {
   "cell_type": "markdown",
   "id": "d0cb6a9c",
   "metadata": {},
   "source": [
    "Pour calculer l'intégrale, on peut développer l'inverse de la distance en une série de polynômes de Legendre. \n",
    "\n",
    "$$\n",
    "\\frac{1}{|r - s|} = \\frac{1}{r} \\sum_{n=0}^{∞} (\\frac{s}{r})^n - P_n(cos(\\gamma)) \n",
    "$$\n",
    "\n",
    "Avec :\n",
    "- $cos(\\gamma) = \\frac{r · s}{rs}$\n",
    "- $\\gamma$ est l'angle entre $r$ et $s$.\n"
   ]
  },
  {
   "cell_type": "markdown",
   "id": "ceea9240",
   "metadata": {},
   "source": [
    "\n",
    "Si la **longitude** est **$\\lambda$** et la **latitude** est **$\\phi$** pour $r$, et $\\lambda'$ et $\\phi'$ pour $s$,\n",
    "\n",
    "$$\n",
    "P_n(cos(\\gamma)) = \\sum_{m=0}^{n} (2 - \\delta_{0m}) \\frac{(n-m)!}{(n+m)!} P_{nm}(sin(\\phi))P_{nm}(sin(\\phi'))cos(m(\\lambda - \\lambda'))\n",
    "$$\n",
    "\n",
    "Avec $P_{nm}$ le polynôme de Legendre associé, qui s'écrit \n",
    "\n",
    "$$\n",
    "P_{nm}(u) = (1 - u^2)^{m/2}\\frac{d^m}{du^m}P_n(u)\n",
    "$$\n"
   ]
  },
  {
   "cell_type": "markdown",
   "id": "04b28ffd",
   "metadata": {},
   "source": [
    "On a alors\n",
    "\n",
    "$$\n",
    "U = \\frac{GM}{r} * \\sum_{n=0}^{∞} \\sum_{m=0}^{n} \\frac{R^n}{r^n} P_{nm}(sin\\phi)(C_{nm} cos(m\\lambda) + S_{nm} sin(m\\lambda)) \n",
    "$$\n",
    "\n",
    "On a les coefficients \n",
    "$$\n",
    "C_{nm} = \\frac{2 - \\delta_{0m}}{M} \\frac{(n-m)!}{(n+m)!} \\int \\frac{s^n}{R^n} P_{nm} (sin\\phi')cos(m\\lambda')\\rho(s)d^3s\n",
    "$$\n",
    "\n",
    "et \n",
    "\n",
    "$$ \n",
    "S_{nm} = \\frac{2 - \\delta_{0m}}{M} \\frac{(n-m)!}{(n+m)!} \\int \\frac{s^n}{R^n} P_{nm} (sin\\phi')sin(m\\lambda')\\rho(s)d^3s\n",
    "$$\n",
    "\n",
    "\n",
    "En considérant les coefficients normalisés : \n",
    "\n",
    "$$\n",
    "\\ddot{r} = \\nabla\\frac{GM}{r} * \\sum_{n=0}^{∞} \\sum_{m=0}^{n} \\frac{R^n}{r^n} \\bar{P}_{nm}(sin\\phi)(\\bar{C}_{nm} cos(m\\lambda) + \\bar{S}_{nm} sin(m\\lambda)) \n",
    "$$\n",
    "\n",
    "Que l'on obtient en multipliant les coefficients par \n",
    "\n",
    "$$\n",
    "\\sqrt \\frac{(n+m)!}{(2-\\delta_{0m})(2n+1)(n-m)!}\n",
    "$$\n",
    "\n",
    "Au contraire, \n",
    "$$\n",
    "\\bar{P}_{nm} = \\sqrt \\frac{(2-\\delta_{0m})(2n+1)(n-m)!}{(n+m)!} P_{nm}\n",
    "$$"
   ]
  },
  {
   "cell_type": "markdown",
   "id": "fbc98a2e",
   "metadata": {},
   "source": [
    "Ces deux coefficients décrivent la dépendance à la distribution de masse interne de la Terre. Si l'on prend $m=0$, on obtient les coefficients zonaux, et décrivent la partie du potentiel qui ne dépend pas de la longitude.\n",
    "On a alors \n",
    "$$\n",
    "J_n = -C_{n0}\n",
    "$$\n",
    "\n",
    "Pour les termes zonaux (quand m = 0).\n",
    "\n",
    "Pour nos calculs, nous allons nous concentrer uniquement sur les degrés les moins importants. En effet, les deux seuls coefficients qui ont un impact significatif sur la trajectoire du satellite, si l'on compare son impact à celui de la lune ou du soleil, sont $J_{2,0}$ et $J_{2,2}$. En effet, selon la façon dont on choisit le système de coordonnées, en spériques avec la longitude et la latitude, on peut montrer que les coefficients $C_{21}$ et $S_{21}$ disparaissent, et les coefficients de degré $1$ de même.\n",
    "\n",
    "\n",
    "### Pour m = 0 et n = 2\n",
    "Dans une première approche, on va chercher à modéliser uniquement la force qu'exerce le géopotentiel selon $J_{2,0}$ sur le satellite.\n",
    "\n",
    "On a pour ça la valeur suivante : \n",
    "$$\n",
    "\\bar{C}_{2,0} = -484,2 . 10^{-6} \n",
    "$$\n",
    "\n"
   ]
  },
  {
   "cell_type": "markdown",
   "id": "ae760d63",
   "metadata": {},
   "source": [
    "On peut alors définir l'équation du mouvement : \n",
    "$$\n",
    "\\ddot{r} = \\nabla\\frac{GM}{r} \\frac{R^2}{r^2} \\bar{P}_{2,0}(sin\\phi)\\bar{C}_{2 ,0} \n",
    "$$\n",
    "\n",
    "De plus, \n",
    "$$\n",
    "P_{2,0}(sin\\phi) =\\frac{1}{2}(3 sin^2\\phi - 1)\n",
    "$$\n",
    "\n",
    "Soit \n",
    "\n",
    "$$\n",
    "\\bar{P}_{2,0} = \\sqrt{5(2-\\delta_{0,0})}   P_{2,0}\n",
    "$$ \n",
    "\n"
   ]
  },
  {
   "cell_type": "markdown",
   "id": "5cad9831",
   "metadata": {},
   "source": [
    "$$\n",
    "\\ddot{r} = \\nabla\\frac{GM}{r} + \\nabla\\frac{GM}{r} \\frac{R^2}{r^2} \\sqrt{5(2-\\delta_{0,0})} \\frac{1}{2}(3 sin^2\\phi - 1) \\bar{C}_{2 ,0} \n",
    "$$\n"
   ]
  },
  {
   "cell_type": "markdown",
   "id": "78abfe5b",
   "metadata": {},
   "source": [
    "Le coefficient $\\delta_{0,0}$ est le delta de Kronecker.\n",
    "On a $\\delta_{i,j} = 1$ si $i = j$, et $\\delta_{i,j} = 0$ sinon. "
   ]
  },
  {
   "cell_type": "markdown",
   "id": "f9a00033",
   "metadata": {},
   "source": [
    "Pour $m=0$ et $n=0$, on en déduit : \n",
    "\n",
    "$$ \\boxed{\\ddot{r} = \\nabla\\frac{GM}{r} + \\nabla\\frac{GM}{r} \\frac{R^2}{r^2} \\sqrt{5} \\frac{1}{2}(3 sin^2\\phi - 1) \\bar{C}_{2 ,0}}\n",
    "$$\n",
    "\n",
    "Avec \n",
    "$$\n",
    "\\bar{C}_{2,0} = -484,2 . 10^{-6} \n",
    "$$\n",
    "\n"
   ]
  },
  {
   "cell_type": "markdown",
   "id": "e01699ac",
   "metadata": {},
   "source": [
    "### Pour m = 2 et n = 2\n",
    "\n"
   ]
  },
  {
   "cell_type": "markdown",
   "id": "d32c09d3",
   "metadata": {},
   "source": [
    "On fait les approximations suivante : \n",
    "$$\\bar{C}_{2,1} \\approx 0 $$ et $$\\bar{S}_{2,1} \\approx 0$$\n",
    "\n",
    "Et on a les valeurs\n",
    "$$\\bar{C}_{2,2} = 2,439261.10^{-6}$$ et $$\\bar{S}_{2,2} = -1,400266.10^{-6}$$\n",
    "\n",
    "Comme on a\n",
    "\n",
    "$$\n",
    "\\ddot{r} = \\nabla\\frac{GM}{r} * \\sum_{n=0}^{∞} \\sum_{m=0}^{n} \\frac{R^n}{r^n} \\bar{P}_{nm}(sin\\phi)(\\bar{C}_{nm} cos(m\\lambda) + \\bar{S}_{nm} sin(m\\lambda)) \n",
    "$$\n",
    "\n",
    "\n"
   ]
  },
  {
   "cell_type": "markdown",
   "id": "9df97204",
   "metadata": {},
   "source": [
    "$$\n",
    "\\ddot{r} = \\nabla\\frac{GM}{r} + \\nabla\\frac{GM}{r} \\frac{R^2}{r^2} \\sqrt{5} \\frac{1}{2}(3 sin^2\\phi - 1) \\bar{C}_{2 ,0} + \\nabla\\frac{GM}{r}\\frac{R^2}{r^2} \\bar{P}_{2,2}(sin\\phi)(\\bar{C}_{2,2} cos(2\\lambda) + \\bar{S}_{2,2} sin(2\\lambda)) \n",
    "$$\n",
    "\n",
    "On a \n",
    "$$\n",
    "P_{2,2}(sin\\phi) = 3cos^2\\phi\n",
    "$$\n",
    "\n",
    "Et \n",
    "$$\n",
    "\\bar{P}_{2,2} = \\sqrt \\frac{5(2-\\delta_{0,2})}{24} P_{2,2}\n",
    "$$\n",
    "\n",
    "Or, les conditions du coefficient de Kronecker donnent $\\delta_{0,2} = 0$\n",
    "\n",
    "\n",
    "Soit \n",
    "$$\n",
    "\\bar{P}_{2,2} = 3cos^2\\phi \\sqrt \\frac{10}{24} \n",
    "$$\n",
    "\n",
    "Et \n",
    "\n",
    "$$\n",
    "\\boxed{\n",
    "\\ddot{r} = \\nabla\\frac{GM}{r} + \\nabla\\frac{GM}{r} \\frac{R^2}{r^2} \\sqrt{5} \\frac{1}{2}(3 sin^2\\phi - 1) \\bar{C}_{2 ,0} + \\nabla\\frac{GM}{r}\\frac{R^2}{r^2} 3cos^2\\phi \\sqrt \\frac{5}{12} (\\bar{C}_{2,2} cos(2\\lambda) + \\bar{S}_{2,2} sin(2\\lambda)) \n",
    "}\n",
    "$$\n"
   ]
  }
 ],
 "metadata": {
  "kernelspec": {
   "display_name": "Python 3 (ipykernel)",
   "language": "python",
   "name": "python3"
  },
  "language_info": {
   "codemirror_mode": {
    "name": "ipython",
    "version": 3
   },
   "file_extension": ".py",
   "mimetype": "text/x-python",
   "name": "python",
   "nbconvert_exporter": "python",
   "pygments_lexer": "ipython3",
   "version": "3.7.3"
  }
 },
 "nbformat": 4,
 "nbformat_minor": 5
}
