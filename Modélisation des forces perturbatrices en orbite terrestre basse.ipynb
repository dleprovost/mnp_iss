{
 "cells": [
  {
   "cell_type": "markdown",
   "id": "00354e74",
   "metadata": {},
   "source": [
    "# Modélisation des forces perturbatrices en orbite terrestre basse\n",
    "***Application à la Station Spatiale Internationale***"
   ]
  },
  {
   "cell_type": "markdown",
   "id": "d8493c82",
   "metadata": {},
   "source": [
    "[TODO] Introduction"
   ]
  },
  {
   "cell_type": "markdown",
   "id": "9cfe74cb",
   "metadata": {},
   "source": [
    "## Modélisation\n",
    "\n",
    "[TODO] Explication des forces modélisées et justification"
   ]
  },
  {
   "cell_type": "markdown",
   "id": "4a5c9ca7",
   "metadata": {},
   "source": [
    "## Données sources\n",
    "[TODO] Explication des données NASA"
   ]
  },
  {
   "cell_type": "markdown",
   "id": "feb2ecbc",
   "metadata": {},
   "source": [
    "## Intégration numérique\n",
    "[TODO] Explication de l'intégration des EDO"
   ]
  },
  {
   "cell_type": "markdown",
   "id": "3d36268d",
   "metadata": {},
   "source": [
    "## Visualisation des résultats\n",
    "[TODO] Rédaction"
   ]
  },
  {
   "cell_type": "markdown",
   "id": "3a4d8420",
   "metadata": {},
   "source": [
    "## Discussion\n",
    "[TODO] Observations et limites du modèle"
   ]
  },
  {
   "cell_type": "markdown",
   "id": "74c5888b",
   "metadata": {},
   "source": [
    "## Conclusion\n",
    "Apprentissage et ouvertures de cette modélisation"
   ]
  }
 ],
 "metadata": {
  "kernelspec": {
   "display_name": "Python 3 (ipykernel)",
   "language": "python",
   "name": "python3"
  },
  "language_info": {
   "codemirror_mode": {
    "name": "ipython",
    "version": 3
   },
   "file_extension": ".py",
   "mimetype": "text/x-python",
   "name": "python",
   "nbconvert_exporter": "python",
   "pygments_lexer": "ipython3",
   "version": "3.7.3"
  }
 },
 "nbformat": 4,
 "nbformat_minor": 5
}
