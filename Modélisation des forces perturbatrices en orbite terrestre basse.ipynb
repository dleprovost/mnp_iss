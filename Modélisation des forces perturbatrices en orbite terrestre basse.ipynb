{
 "cells": [
  {
   "cell_type": "markdown",
   "id": "00354e74",
   "metadata": {},
   "source": [
    "# Modélisation des forces perturbatrices en orbite terrestre basse\n",
    "***Application à la Station Spatiale Internationale***"
   ]
  },
  {
   "cell_type": "markdown",
   "id": "fd87ffad",
   "metadata": {},
   "source": [
    "![](resources/iss_banner.jpg)"
   ]
  },
  {
   "cell_type": "markdown",
   "id": "d8493c82",
   "metadata": {},
   "source": [
    "Assemblée à partir de 1998, la **Station spatiale internationale (ISS)** est actuellement le plus grand des objets artificiels placés en orbite par l'Homme, avec une masse d'environ 420 tonnes pour une longueur totale de près de 110 mètres [[1]](#ref-1). Ce statut fait d'elle un objet de premier intérêt dès lors que l'on s'intéresse au comportement des corps situés en orbite basse terrestre. En effet, à une altitude d'environ 400 km au dessus de la surface de la Terre, les perturbations du mouvement intertiel sont nombreuses, et l'objectif de ce calepin est de les étudier.\n",
    "\n",
    "Dans ce projet, nous cherchons à identifier et modéliser les forces prédominantes agissant sur les objets placés en orbite basse terrestre. L'objectif d'un tel modèle est de prioriser et de ne retenir que les forces prédominantes, afin d'expliquer au mieux la trajectoire de la station spatiale internationale. Dans une première partie, nous présentons notre modèle et les forces retenues. Nous utilisons ensuite des données de positions mises à disposition par la NASA pour confronter les résultats de notre modèle. Enfin, nous discutons ces résultats et les limites de ce modèle avant de conclure.\n",
    "\n",
    "Ce projet regroupe ce calepin et des [annexes](#Annexes), qui visent à fournir une documentation approfondie sur la description des forces impliquées dans le modèle, ou à documenter les détails techniques de l'implémentation des fonctions supports ne faisant pas à proprement parler du modèle mais permettent d'enrichir les fonctionnalités du projet sans allourdir le calepin principal."
   ]
  },
  {
   "cell_type": "markdown",
   "id": "5a929cdf",
   "metadata": {},
   "source": [
    "## Modèle et méthode\n",
    "\n",
    "Pour expliquer la trajectoire de l'ISS au cours du temps, nous nous référons au **principe fondamental de la dynamique (PFD)** qui nous indique que dans un référentiel galiléen, l'accélération du centre d'inertie $\\vec a$ d'un système de masse $m$ constante est proportionnelle à la résultante des forces $\\vec F_i$ qu'il subit, et inversement proportionnelle à $m$, soit :\n",
    "$$\\vec a = \\sum\\frac{\\vec F_i}m$$\n",
    "\n",
    "L'addition des compostantes de l'accélération issues de chaque force exterieure nous donne l'expression de l'équation différentielle du mouvement du centre d'inertie. \n",
    "Toutefois, le nombre de forces impliquées étant théoriquement quasi-infini  (tout corps dans l'univers exercant une force de gravitation non nulle) mais également d'ordres de grandeur fortement inégaux, il convient d'effectuer un choix rigoureux des forces à modéliser. Notre modèle vise donc à prendre en compte les forces s'exerçant sur la station par ordre d'influence sur son accélération, en commençant par les plus influentes.\n",
    "\n",
    "Pour sélectionner les forces à modéliser, nous nous appuyons sur la figure suivante, issue de l'ouvrage *Satellite Orbits*, de Montenbruck & Gill [[2]](#ref-2), qui détaille les ordres de grandeurs des différentes forces agissant sur un satellite en orbite terrestre."
   ]
  },
  {
   "cell_type": "markdown",
   "id": "26af0589",
   "metadata": {},
   "source": [
    "![](resources/Montenbruck.jpg)"
   ]
  },
  {
   "cell_type": "markdown",
   "id": "772d8473",
   "metadata": {},
   "source": [
    "Ainsi, en tenant compte de l'ordre de grandeur de chaque force excercée sur un satellite en orbite basse autour de 400 km d'altitude (6 771 km du centre de la Terre), nous sélectionnons les forces suivantes :\n",
    "\n",
    "- la force gravitationnelle de la Terre,\n",
    "- la force géopotentielle $J_{2,0}$ et $J_{2,2}$,\n",
    "- la force de traînée atmosphérique,\n",
    "- la force gravitationnelle de la Lune,\n",
    "- la force gravitationnelle du Soleil."
   ]
  },
  {
   "cell_type": "markdown",
   "id": "c2f57845",
   "metadata": {},
   "source": [
    "Dans la suite de cette section, nous modélisons chacune de ces forces, afin d'en déduire leurs contributions à l'accélération de l'ISS, que nous modélisons comme un point matériel situé à l'emplacement de son centre de masse. L'équation différentielle du mouvement est ensuite résolue dans la section suivante de façon numérique pour définir une trajectoire de résultat.\n",
    "\n",
    "À titre informatif, les seules forces représentant une contribution supérieure à $10^{-10}\\ \\mathrm{km.s^{-2}}$ pour l'accélération et qui n'ont pas été prises en compte sont : \n",
    "- le coefficient $J_{6,6}$ du géopotentiel, qui représente un apport nettement moins significatif que $J_{2,0}$ et $J_{2,2}$ ;\n",
    "- les forces de marées, c'est-à-dire la déformation de la croûte terrestre dûe aux forces de gravitation extérieures, puisque les variations de densité de la croûte terrestre sont en partie modélisées dans l'expression du géopotentiel.\n",
    "\n",
    "\n",
    "Pour implémenter numériquement de façon efficace chaque force de notre modèle, nous les faisons hériter d'une classe abstraite `Force`, dont les spécificités sont détaillées en [Annexe : Modèle d'implémentation des forces](%5BAnnexe%5D%20Mod%C3%A8le%20d'impl%C3%A9mentation%20des%20forces.ipynb)."
   ]
  },
  {
   "cell_type": "markdown",
   "id": "378b149f",
   "metadata": {},
   "source": [
    "### Force de gravitation terrestre\n",
    "\n",
    "La force gravitationnelle exercée par la Terre, représentée $GM$ sur la figure des forces, est la force principale s'exerçant sur un satellite en orbite basse. Son expression ci-dessous considère la Terre comme une sphère parfaite, ce qui revient à un point materiel situé au centre d'une sphère parfaite."
   ]
  },
  {
   "cell_type": "code",
   "execution_count": 1,
   "id": "e7d5e041",
   "metadata": {},
   "outputs": [
    {
     "data": {
      "text/latex": [
       "Force de gravitation terrestre : $\\displaystyle -\\frac{GMm}{r^3}\\mathbf r$"
      ],
      "text/plain": [
       "Force de gravitation terrestre"
      ]
     },
     "execution_count": 1,
     "metadata": {},
     "output_type": "execute_result"
    }
   ],
   "source": [
    "from isslib import Force\n",
    "\n",
    "class EarthGravity(Force):\n",
    "    \"\"\"Force de gravitation terrestre.\"\"\"\n",
    "\n",
    "    @property\n",
    "    def name(self):\n",
    "        \"\"\"Nom de la force sous forme de string.\"\"\"\n",
    "        return \"Force de gravitation terrestre\"\n",
    "    \n",
    "    @property\n",
    "    def formula(self):\n",
    "        \"\"\"Expression de la force au format LaTeX.\"\"\"\n",
    "        return r\"-\\frac{GMm}{r^3}\\mathbf r\"\n",
    "\n",
    "    def acceleration(self, u, t):\n",
    "        \"\"\"EDO gravitation terrestre.\"\"\"\n",
    "        # vecteur position        \n",
    "        r = np.array(u[:3])\n",
    "        # Expression de l'acceleration résultante de la force\n",
    "        return - self.G * self.earth_mass / np.linalg.norm(r)**3 * r\n",
    "\n",
    "EarthGravity()"
   ]
  },
  {
   "cell_type": "markdown",
   "id": "66d145b1",
   "metadata": {},
   "source": [
    "Avec $G$ la constante universelle de gravitation, $M$ la masse de la Terre, $r$ la distance entre les deux centres de masse et $\\mathbf r$ le vecteur position du satellite, sa contribution à l'accélération de ce dernier est :\n",
    "$$\\ddot r_{gT} = -\\frac{GM}{r^3} \\mathbf{r}$$"
   ]
  },
  {
   "cell_type": "markdown",
   "id": "9cfe74cb",
   "metadata": {},
   "source": [
    "### Force géopotentielle\n",
    "\n",
    "Si l'on considère que la masse de la Terre n'est pas uniformément répartie dans une sphère parfaite, on peut choisir d'intégrer le potentiel $U$ de la gravité terrestre pour modéliser sa force d'attraction sur un satellite. On a alors :\n",
    "$$\\ddot r_{gp}=\\nabla U$$\n",
    "avec $U = \\dfrac{GM}r$.\n",
    "Si on généralise l'expression à une masse arbitraire : \n",
    "$$ U = \\int \\frac{\\rho(s)d^3s}{|r - s|}$$\n",
    "avec ${\\rho(s)}$ la densité à un point $s$ au sein de la Terre, et $|r - s|$ la distance du satellite au point $s$.\n",
    "\n",
    "En développant avec la méthode des polynômes de Legendre, on obtient :\n",
    "$$ \\ddot r_{gp} = \\nabla\\frac{GM}r \\cdot \\sum_{n=0}^\\inf \\sum_{m=0}^n \\frac{R^n}{r^n} \\bar{P}_{nm}\\sin\\phi\\left(\\bar{C}_{nm} \\cos(m\\lambda) + \\bar{S}_{nm} \\sin(m\\lambda)\\right)\n",
    "$$\n",
    "où chaque combinaison de $n,m$ est représenté sous la forme $J_{n,m}$.\n",
    "\n",
    "On constate alors que $J_{0,0}$ donne l'expression de la force de gravitation terrestre. **La modélisation indépendante de la gravitation terrestre est alors inutile, son influence étant représenté par le géopotentiel.**\n",
    "\n",
    "[TODO] Annulation des 1\n",
    "\n",
    "On modélise les coefficients $J_{2,0}$ et $J_{2,2}$ qui sont, en plus de la gravitation terrestre, les principales influences gravitationnelles en orbite basse. On a alors :\n",
    "\n",
    "$$ \\ddot r_{gp} = \\nabla\\frac{GM}{r} J_{0 ,0} + \\nabla\\frac{GM}{r} J_{2 ,0} + \\nabla\\frac{GM}{r} J_{2 ,2} $$"
   ]
  },
  {
   "cell_type": "code",
   "execution_count": 2,
   "id": "3a99b59c",
   "metadata": {},
   "outputs": [
    {
     "data": {
      "text/latex": [
       "Force géopotentielle : $\\displaystyle \\nabla\\frac{GMm}r\\left[1+\\frac{\\sqrt5}2\\frac{R^2}{r^2}\\Bigg(\\bar{C}_{2,0}\\left(3\\sin^2(\\varphi)-1\\right)+\\sqrt3\\cos^2(\\varphi)\\left(\\bar{C}_{2,2}\\cos(2\\lambda)+\\bar{S}_{2,2}\\sin(2\\lambda)\\right)\\Bigg)\\right]$"
      ],
      "text/plain": [
       "Force géopotentielle"
      ]
     },
     "execution_count": 2,
     "metadata": {},
     "output_type": "execute_result"
    }
   ],
   "source": [
    "from astropy.time import Time\n",
    "import astropy.units as units\n",
    "from isslib.coordinates import celestial2terrestrial\n",
    "import pandas as pd\n",
    "\n",
    "class Geopotential(Force):\n",
    "    def __init__(self, t0=pd.Timestamp.now()):\n",
    "        self.t0 = Time(t0)\n",
    "\n",
    "    @property\n",
    "    def C20(self):\n",
    "        \"\"\"Valeur du coefficient de Legendre cosinus de degré 2 d'ordre 0.\"\"\"\n",
    "        return -484.2e-6  # coefficient sans unité\n",
    "\n",
    "    @property\n",
    "    def C22(self):\n",
    "        \"\"\"Valeur du coefficient de Legendre cosinus de degré 2 d'ordre 2.\"\"\"\n",
    "        return 2.439261e-6  # coefficient sans unité\n",
    "\n",
    "    @property\n",
    "    def S22(self):\n",
    "        \"\"\"Valeur du coefficient de Legendre sinus de degré 2 d'ordre 2.\"\"\"\n",
    "        return -1.400266e-6  # coefficient sans unité\n",
    "\n",
    "    @property\n",
    "    def name(self):\n",
    "        \"\"\"Nom de la force sous forme de string.\"\"\"\n",
    "        return \"Force géopotentielle\"\n",
    "    \n",
    "    @property\n",
    "    def formula(self):\n",
    "        \"\"\"Expression de la force au format LaTeX.\"\"\"\n",
    "        return (r\"\\nabla\\frac{GMm}r\\left[1+\\frac{\\sqrt5}2\\frac{R^2}{r^2}\"\n",
    "                r\"\\Bigg(\\bar{C}_{2,0}\\left(3\\sin^2(\\varphi)-1\\right)+\"\n",
    "                r\"\\sqrt3\\cos^2(\\varphi)\\left(\\bar{C}_{2,2}\\cos(2\\lambda)+\"\n",
    "                r\"\\bar{S}_{2,2}\\sin(2\\lambda)\\right)\\Bigg)\\right]\")\n",
    "\n",
    "    def acceleration(self, u, t):\n",
    "        \"\"\"EDO géopotentiel.\"\"\"\n",
    "        # vecteur position        \n",
    "        r = np.array(u[:3])\n",
    "        # calcul de la distance au centre de la terre (norme de r),\n",
    "        # longitude et latitude terrestre à la date et l'heure donnée\n",
    "        datetime = self.t0 + t * units.s\n",
    "        n_r, longitude, latitude = celestial2terrestrial(*r, datetime,\n",
    "                                                         mode='spherical')\n",
    "        # nabla(GM/r)\n",
    "        nablaGMr = - self.G * self.earth_mass / n_r**3 * r\n",
    "        # Expression de l'acceleration résultante de la force\n",
    "        return nablaGMr * (1 + np.sqrt(5)*self.earth_radius**2/(2*n_r**2)\n",
    "                           * (self.C20 * (3 * np.sin(latitude)**2 - 1)\n",
    "                              + np.sqrt(3) * np.cos(latitude)**2\n",
    "                              * (self.C22 * np.cos(2*longitude)\n",
    "                                 + self.S22 * np.sin(2*longitude))))\n",
    "Geopotential()"
   ]
  },
  {
   "cell_type": "markdown",
   "id": "00aa14f1",
   "metadata": {},
   "source": [
    "Sa contribution à l'accélération du satellite est alors :\n",
    "\n",
    "$$\n",
    "\\boxed{\n",
    "\\ddot{r} = -\\frac{GM}{r^3}\\left[1+\\frac{\\sqrt5}2\\frac{R^2}{r^2}\\Bigg(\\bar{C}_{2,0}\\left(3\\sin^2(\\varphi)-1\\right)+\\sqrt3\\cos^2(\\varphi)\\left(\\bar{C}_{2,2}\\cos(2\\lambda)+\\bar{S}_{2,2}\\sin(2\\lambda)\\right)\\Bigg)\\right] \n",
    "\\mathbf r}\n",
    "$$\n",
    "\n",
    "où $r$ est la distance entre les deux centres de gravité, $R$ le rayon de la Terre, **$\\lambda$** la longitude et $\\phi$ la latitude du satellite dans le repère sphérique.\n",
    "\n",
    "La force géopotentielle est développé plus en détail dans l'[annexe : Force Géopotentielle](%5BAnnexe%5D%20Force%20g%C3%A9opotentielle%20WIP.ipynb)."
   ]
  },
  {
   "cell_type": "code",
   "execution_count": 3,
   "id": "fa5478cc",
   "metadata": {},
   "outputs": [],
   "source": [
    "#### Damien en est là."
   ]
  },
  {
   "cell_type": "markdown",
   "id": "4dbed87b",
   "metadata": {},
   "source": [
    "### Force de traînée atmosphérique\n",
    "\n",
    "La deuxième force d'importance capitale lorsque l'on cherche à modéliser la trajectoire d'un satellite en basse altitude est la force de traînée atmosphérique. Elle représente la perturbation non gravitationnelle la plus importante sur les satellites à basse altitude. Il y a pourtant plusieurs difficultés à sa modélisation : les propriétés physiques de l'atmosphère, et notamment sa densité, ne sont pas connues de façon très précises. Nous allons ici procéder à plusieurs simplifications. Premièrement, nous allons supposer que la hauteur du satellite est constante par rapport au centre de la Terre, et qu'à cette hauteur, il n'y a pas de variation conséquente de la physique atmosphérique, ce qui permet de négliger les variations de densité et de température. Nous allons enfin supposer que la surface que présente l'ISS au flux de particules qu'elle rencontre est constante. \n",
    "\n",
    "Ainsi, la force de traînée à plusieurs propriétés : \n",
    "- elle est dirigée de façon opposée à la vitesse, selon le flux atmosphérique, et contribue donc à ralentir le satellite\n",
    "- elle dépend de la surface du satellite qui rencontre le flux de particule, et  du coefficient de traînée qui lui est attaché\n",
    "- elle dépend de sa masse\n",
    "- elle dépend de la densité atmosphérique\n",
    "\n",
    "Si l'on considère un élément de masse $\\Delta m$ d'une colonne d'air qui percute l'aire transversale $A$ du satellite durant l'intervalle $dt$, on peut écrire : \n",
    "$$\\Delta m = \\rho A v_r \\Delta t$$ \n",
    "\n",
    "Si $v_r$ est la vitesse relative du satellite par rapport à l'atmopshère, et ou $\\rho$ est la densité atmosphérique. L'impulsion $dp$ exercée sur le satellite est alors : \n",
    "$$\\Delta p = \\Delta m v_r = \\rho A {v_r}^2 \\textbf{e}_v$$\n",
    "\n",
    "Que l'on peut mettre en relation avec la force résultante avec la formule \n",
    "$$ F = \\frac{\\Delta p } {\\Delta t}$$\n",
    "\n",
    "Au final, on obtient\n",
    "\n",
    "$$ \\boxed{\\ddot{r} = -\\frac{1}{2} C_D \\frac{A}{m} \\rho {v_r}^2 \\textbf{e}_v}$$\n",
    "\n",
    "Avec $m$ la masse du satellite, $C_D$ le coefficient de traînée, sans dimension, qui décrit les interactions de l'atmopshère avec la surface du satellite, et qui varie globalement entre 1.5 et 3. La direction de l'accélération est toujours opposée à celle de la vitesse, et $$ \\mathbf{e}_v = \\mathbf{v}_r / v_r$$\n",
    "\n",
    "La connaissance de $C_D$ n'est pas parfaite, cependant, des études et des simulations numériques ont permis d'estimer une valeur moyenne du coefficient de traînée pour l'ISS. En général, on considère que le coefficient de traînée pour l'ISS est compris entre 1,2 et 2,2, avec une valeur typique de 1,5.\n",
    "\n",
    "La vitesse relative du satellite par rapport à l'atmosphère peut être approximée en supposant que l'atmosphère tourne à la même vitesse que la Terre.\n",
    "\n",
    "On a alors $$\\textbf{v}_r = \\textbf{v} - \\mathbf{\\omega r}$$\n",
    "\n",
    "Avec $\\textbf{v}$ la vélocité du satellite, $\\textbf{r}$ le vecteur position, et $\\omega$ la vitesse angulaire de la Terre de taille $0,7292.10^{-4} rad.s^{-1}$\n",
    "\n",
    "Enfin, $\\rho$ est la masse volumique atmosphérique à hauteur de l'ISS. Elle est de l'ordre de $10^{-12}$ environ à cette altitude (NASA). [modèle NRLMSISE-00 (Navy-Remote-Lower-Mesosphere-Space-Model-Earth-2000), développé par la US Navy et utilisé pour estimer les propriétés de l'atmosphère à différentes altitudes.]\n",
    "\n",
    "Avec ces données et l'expression de l'accélération, nous pouvons ajouter cette force à notre équation différentielle.\n",
    "\n",
    "La méthode générale est expliquée plus en détail dans le **Notebook *Force - Traînée atmosphérique***."
   ]
  },
  {
   "cell_type": "markdown",
   "id": "3520591b",
   "metadata": {},
   "source": [
    "### Force de gravitation lunaire\n",
    "\n",
    "L'une des forces à ne pas négliger est celle de la Lune, qui a une masse bien supérieur à celle du satellite, et qui influe donc sur sa trajectoire, bien qu'à un ordre moindre que les deux forces précédentes.\n",
    "\n",
    "Pour obtenir l'accélération d'un satellite par rapport à la Lune dans un référentiel géocentrique, il faut considérer l'accélération de la Terre par rapport à la Lune, et pas seulement l'accélération du satellite par rapport à elle.\n",
    "\n",
    "On a donc \n",
    "$$\n",
    "\\ddot{r} = GM_L\\left( \\frac{L-r}{|L-r|^3} - \\frac{L}{|L|^3} \\right)\n",
    "$$\n",
    "\n",
    "Avec $L$ la coordonnée de la Lune de masse $M_L$ par rapport au système de coordonnées géocentriques et $r$ celle du satellite.\n",
    "\n",
    "Comme la lune est bien plus loin que les satellites (et surtout l'ISS) de la Terre, on peut se servir d'approximations : \n",
    "\n",
    "$$\n",
    "\\frac{1}{|L-r|^3} = {\\frac{1}{s^2+r^2-2Lr(\\mathbf{e_Le_r})}^{3/2} \\approx \\frac{1}{L^3} \\left(1+3\\frac{r}{L}(\\mathbf{e_Le_r})\\right)}\n",
    "$$\n",
    "\n",
    "Ici, $\\mathbf{e_L} = \\dfrac{\\mathbf{L}}{L}$ et $\\mathbf{e_r} = \\dfrac{\\mathbf{r}}{r}$ sont les vecteurs unitaires, pointant respectivement vers $L$ la Lune et $r$.\n",
    "\n",
    "On a alors la relation approximative suivante : \n",
    "$$\n",
    "\\boxed{\\mathbf{\\ddot{r}} \\approx \\frac{GM_Lr}{L^3}\\big(-\\mathbf{e_r}+3\\mathbf{e_L}(\\mathbf{e_L}\\mathbf{e_r})\\big)}\n",
    "$$\n"
   ]
  },
  {
   "cell_type": "markdown",
   "id": "72c96e14",
   "metadata": {},
   "source": [
    "### Force de gravitation solaire\n",
    "\n",
    "Enfin, la dernière force que nous avons souhaité prendre en compte est celle de la gravitation solaire. En influant sur la trajectoire de la Terre, elle modifie aussi celle de l'ISS.\n",
    "\n",
    "En suivant la même méthode que pour la force de gravitation solaire, on obtient\n",
    "$$ \n",
    "\\boxed{\\mathbf{\\ddot{r}} \\approx \\frac{GM_sr}{s^3}\\big(-\\mathbf{e}_r+3\\mathbf{e}_s(\\mathbf{e}_s\\mathbf{e}_r)\\big)}\n",
    "$$\n",
    "\n",
    "Avec $s$ la coordonnée du Soleil par rapport au système de coordonnées géocentriques.\n",
    "\n",
    "La méthode générale développée pour ces deux dernières forces est expliquée plus en détail dans le **Notebook *Force - Gravitation***\n"
   ]
  },
  {
   "cell_type": "markdown",
   "id": "3ee26c1f",
   "metadata": {},
   "source": [
    "### Modélisation\n",
    "\n",
    "Les forces que nous avons choisi de modéliser, afin de visualiser l'effet qu'elles ont sur l'ISS, sont donc à présent mises en équation. Ces 4 équations différentielles vont nous permettre d'obtenir la trajectoire de l'ISS, en intégrant à l'aide de méthodes numériques et à partir de coordonnées initiales. Nous développerons sur ces derniers points dans la section **Intégration numérique**."
   ]
  },
  {
   "cell_type": "markdown",
   "id": "4456428e",
   "metadata": {},
   "source": [
    "---\n",
    "---\n",
    "Nous pourrons alors écrire l'équation différentielle de notre problème. En intégrant, nous obtiendrons alors un modèle de la vitesse, puis de la trajectoire de l'ISS, en tenant compte des paramètres initiaux. Exprimée en coordonnées cylindriques, basées sur la longitude et la latitude, nous comparerons alors notre modèle aux données collectées par la NASA, afin de conclure sur la pertinence de notre modèle, et sur l'intérêt de modéliser uniquement forces que nous avons sélectionnées. Nous serons alors en mesure de présenter les difficultés que nous avons rencontrées, les limites de nos travaux, ainsi que l'intérêt de ce projet en termes d'apprentissage.\n",
    "\n",
    "\n",
    "Dans cette partie, nous allons expliciter les formules de ces dernières, ainsi que les suppositions que nous avons faites pour les appliquer à notre modèle. \n",
    "\n",
    "---\n",
    "---\n",
    "\n",
    "Exprimée en coordonnées cylindriques, basées sur la longitude et la latitude, nous comparerons alors notre modèle aux données collectées par la NASA, afin de conclure sur la pertinence de notre modèle, et sur l'intérêt de modéliser uniquement forces que nous avons sélectionnées. Nous serons alors en mesure de présenter les difficultés que nous avons rencontrées, les limites de nos travaux, ainsi que l'intérêt de ce projet en termes d'apprentissage.\n",
    "\n",
    "---\n",
    "---"
   ]
  },
  {
   "cell_type": "markdown",
   "id": "4a5c9ca7",
   "metadata": {},
   "source": [
    "## Données sources\n",
    "[TODO] Explication des données NASA"
   ]
  },
  {
   "cell_type": "markdown",
   "id": "feb2ecbc",
   "metadata": {},
   "source": [
    "## Intégration numérique\n",
    "[TODO] Explication de l'intégration des EDO"
   ]
  },
  {
   "cell_type": "markdown",
   "id": "3d36268d",
   "metadata": {},
   "source": [
    "## Visualisation des résultats\n",
    "[TODO] Rédaction"
   ]
  },
  {
   "cell_type": "markdown",
   "id": "3a4d8420",
   "metadata": {},
   "source": [
    "## Discussion\n",
    "[TODO] Observations et limites du modèle\n",
    "\n",
    "En comparant les données sources au modèle, on constate donc que les forces choisies ne suffisent pas à reproduire l'orbite de l'ISS. En effet, le modèle ne parvient pas à reproduire les variations latitudinales de l'orbite de l'ISS. De même, on constate que les variations d'altitude sont plus importantes dans le modèle que pour les données réelles.\n",
    "\n",
    "Plusieurs facteurs peuvent expliquer ces changements : \n",
    "\n",
    "Premièrement, les simplifications faites au niveau de la traînée atmosphérique ne permettent pas une prise en compte exhaustive de cette force, qui change pourtant considérablement la trajectoire d'un satellite. En effet, ne pas prendre en compte les variations de températures et de géographie, et supposer que la densité de l'air est homogène, est une simplification conséquente. \n",
    "\n",
    "De même, lors du calcul du géopotentiel, nous avons choisi de nous arrêter aux coefficients les plus bas, mais il aurait pu être intéressant de chercher à en calculer davantage. \n",
    "\n",
    "Enfin, les nombreuses forces que nous n'avons pas modélisé, comme la pression de radiation du soleil ou de l'atmosphère, l'albédo, la marée terrestre, ou encore les forces de gravitation produites par les autres corps célestes, ont aussi une influence sur la trajectoire d'un satellite, bien que l'ordre de grandeur qui leur est associé est moins important.\n",
    "\n"
   ]
  },
  {
   "cell_type": "markdown",
   "id": "74c5888b",
   "metadata": {},
   "source": [
    "## Conclusion\n",
    "Apprentissage et ouvertures de cette modélisation"
   ]
  },
  {
   "cell_type": "markdown",
   "id": "bca90f29",
   "metadata": {},
   "source": [
    "## Annexes"
   ]
  },
  {
   "cell_type": "markdown",
   "id": "46e8d080",
   "metadata": {},
   "source": [
    "## Références et bibliographie\n",
    "\n",
    "\n",
    "* <a class=\"anchor\" name=\"ref-1\">[1]</a> International Space Station Facts and Figures ; NASA ; https://www.nasa.gov/feature/facts-and-figures ; 4 janvier 2023.\n",
    "*<a class=\"anchor\" name=\"ref-2\">[2]</a> Satellite Orbits: Models, Methods, and Applications ; Montenbruck Oliver et Gill Eberhard ; Springer Berlin Heidelberg ; 2000.\n",
    "\n",
    "\n",
    "* R. Roy, Orbital Motion (CRC Press, 2005), p. 117-118.\n",
    "* D.A. Vallado et al., Fundamentals of Astrodynamics and Applications, 4th ed. (Microcosm Press, 2013), p. 48-49.\n",
    "* \"Aerodynamic Characteristics of the International Space Station (ISS) for Orbital Altitudes\" (2003) par J. J. Bertin, T. K. Stanton, et R. G. Johnson. Cette étude a utilisé des simulations numériques pour étudier les caractéristiques aérodynamiques de l'ISS à différentes altitudes orbitales, et a estimé un coefficient de traînée moyen de 1,5 pour l'ISS.\n",
    "\n",
    "* \"Aerodynamic Analysis of the International Space Station\" (2003) par S. K. Agrawal et S. S. Joshi. Cette étude a utilisé une combinaison de simulations numériques et de données expérimentales pour étudier la traînée atmosphérique subie par l'ISS, et a estimé un coefficient de traînée moyen de 1,8 pour l'ISS.\n"
   ]
  },
  {
   "cell_type": "code",
   "execution_count": null,
   "id": "0e71ed90",
   "metadata": {},
   "outputs": [],
   "source": []
  }
 ],
 "metadata": {
  "kernelspec": {
   "display_name": "Python 3 (ipykernel)",
   "language": "python",
   "name": "python3"
  },
  "language_info": {
   "codemirror_mode": {
    "name": "ipython",
    "version": 3
   },
   "file_extension": ".py",
   "mimetype": "text/x-python",
   "name": "python",
   "nbconvert_exporter": "python",
   "pygments_lexer": "ipython3",
   "version": "3.7.3"
  }
 },
 "nbformat": 4,
 "nbformat_minor": 5
}
