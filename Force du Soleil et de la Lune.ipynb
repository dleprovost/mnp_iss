{
 "cells": [
  {
   "cell_type": "markdown",
   "id": "d492c9e7",
   "metadata": {},
   "source": [
    "# Accélération du satellite dans le système géocentrique en fonction de forces perturbatrices extérieures aux système terrestre"
   ]
  },
  {
   "cell_type": "markdown",
   "id": "0159bf5d",
   "metadata": {},
   "source": [
    "Pour obtenir l'accélération d'un satellite par rapport à un point M dans un référentiel géocentrique, il faut considérer l'accélération de la Terre par rapport à M, et pas seulement l'accélération du satellite par rapport à ce point.\n",
    "\n",
    "On a donc \n",
    "$$\n",
    "\\ddot{r} = GM\\left( \\frac{s-r}{|s-r|^3} - \\frac{s}{|s|^3} \\right)\n",
    "$$\n",
    "\n",
    "Avec $s$ la coordonnée de M par rapport au système de coordonnées géocentriques et $r$ celle du satellite.\n",
    "\n",
    "Comme le soleil et la lune sont bien plus loin que les satellites (et surtout l'ISS) de la Terre, on peut se servir d'approximations : \n",
    "\n",
    "$$\n",
    "\\frac{1}{|s-r|^3} = {\\frac{1}{s^2+r^2-2sr(e_se_r)}^{3/2} \\approx \\frac{1}{s^3} \\left(1+3\\frac{r}{s}(e_se_r)\\right)}\n",
    "$$\n",
    "\n",
    "Ici, $e_s = \\dfrac{s}{s}$ et $e_r = \\dfrac{r}{r}$ sont les vecteurs unitaires, pointant respectivement vers $s$ et $r$.\n",
    "\n",
    "On a alors la relation approximative suivante : \n",
    "$$\n",
    "\\ddot{r} \\approx \\frac{GMr}{s^3}\\big(-e_r+3e_s(e_se_r)\\big)\n",
    "$$\n",
    "\n",
    "Ce qui se réduit en \n",
    "$$\n",
    "\\ddot{r} \\approx \\frac{2GM}{s^3}r\n",
    "$$\n",
    "si $e_r$ est plus ou moins égal à $e_s$, et en \n",
    "\n",
    "$$\n",
    "\\ddot{r} \\approx -\\frac{GM}{s^3}r\n",
    "$$\n",
    "\n",
    "si $e_se_r = 0$. On a donc un satellite qui subit une accélération vers le perturbateur quand la ligne satellite/perturbateur est collinéaire avec la ligne Terre/perturbateur, et vers la Terre quand ces lignes sont perpendiculaires. \n",
    "Il faut donc avoir $e_s$ et $e_r$ en fonction du temps."
   ]
  },
  {
   "cell_type": "markdown",
   "id": "6e8f9ee6",
   "metadata": {},
   "source": [
    "## Approximations des coordonnées du Soleil"
   ]
  },
  {
   "cell_type": "markdown",
   "id": "c20a2d18",
   "metadata": {},
   "source": [
    "On peut approximer les coordonnées solaires si l'on suppose que la trajectoire de la Terre autour du soleil n'est pas perturbée. On peut approximer la trajectoire du soleil avec les données suivantes :"
   ]
  },
  {
   "cell_type": "markdown",
   "id": "b2ca21b1",
   "metadata": {},
   "source": [
    "$a = 149600000$ km\n",
    "\n",
    "$e = 0.016709 $\n",
    "\n",
    "$i = 0$ degrés\n",
    "\n",
    "$\\Omega + \\omega = 282.94$ degrés\n",
    "\n",
    "$M = \\dfrac{357}{5256} + 35999.049~T$\n",
    "\n",
    "$T = \\dfrac{(JD - 2451545.0)}{36525}$ (nombre de siècles Juliens depuis 1.5 Janvier 2000) et JD est la date Julienne\n"
   ]
  },
  {
   "cell_type": "markdown",
   "id": "5e76f871",
   "metadata": {},
   "source": [
    "Les coordonnées du soleil peuvent alors être trouvées avec les équations de Kepler.\n",
    "On peut alors trouver les résultats suivants :\n",
    "$$\n",
    "\\lambda = \\Omega + \\omega + M + 6892\\sin M + 72\\sin(2M)\n",
    "$$\n",
    "\n",
    "$$\n",
    "r = \\big(149.619 - 2.499\\cos M - 0.021\\cos(2M)\\big)\\cdot 10^6 km\n",
    "$$\n",
    "\n",
    "Si l'on veut traduire en coordonnées cartésiennes en se referrant à l'équateur, on a \n",
    "\n",
    "\\begin{align*}\n",
    "r_x &= r\\cos\\lambda\\\\\n",
    "r_y &= r\\sin\\lambda \\cos\\epsilon\\\\\n",
    "r_z &= r\\sin\\lambda \\sin\\epsilon\n",
    "\\end{align*}\n",
    "\n",
    "Avec $\\epsilon = 23.43929111$ l'obliquité de l'écliptique et $\\lambda$ la longitude.\n",
    "\n",
    "Le vecteur unitaire $e_s$ du soleil devient alors \n",
    "\\begin{align*}\n",
    "e_{x_s} &= \\cos\\lambda\\\\\n",
    "e_{y_s} &= \\sin\\lambda\\cos\\epsilon\\\\\n",
    "e_{z_s} &= \\sin\\lambda\\sin\\epsilon\n",
    "\\end{align*}\n",
    "\n",
    "### Accélération du satellite en fonction de la force de gravitation du soleil\n",
    "\n",
    "Et on peut appliquer la formule trouvée plus haut :\n",
    "$$\n",
    "\\ddot{r} \\approx \\frac{GMr}{s^3}\\big(-e_r+3e_s(e_se_r)\\big)\n",
    "$$\n",
    "\n",
    "En ramenant les coordonnées de $e_r$ en cartésiennes de même."
   ]
  },
  {
   "cell_type": "markdown",
   "id": "46fb8339",
   "metadata": {},
   "source": [
    "## Approximation des coordonnées de la Lune"
   ]
  },
  {
   "cell_type": "markdown",
   "id": "7a4dfb0e",
   "metadata": {},
   "source": [
    "Pour la Lune, comme il y a de fortes perturbations terrestres et solaires, il faut un nombre plus important de termes, qui permettent d'approximer la longitutde et la latitude de la lune. \n",
    "Nous allons ici avoir besoin de 5 arguments fondamentaux :\n",
    "- La longitude moyenne de la Lune, $L_0$\n",
    "- L'anomalie moyenne de la lune $l$\n",
    "- l'anomalie moyenne du soleil $l'$\n",
    "- la distance angulaire moyenne de la Lune à la longitude du noeud ascendant $F$\n",
    "- la différence $D$ entre les longitudes moyennes du Soleil et de la Lune\n",
    "\n",
    "Elles sont données par :\n",
    "\\begin{align*}\n",
    "L_0 &= 218°31617 + 481267°88088~T - 1°3972~T \\\\\n",
    "l &= 134°96292 + 477198°86753~T \\\\\n",
    "l' &= 357°52543 + 35999°04944~T \\\\\n",
    "F &= 93°27283 + 483202°01873~T \\\\\n",
    "D &= 297°85027 + 445267°11135~T\n",
    "\\end{align*}\n",
    "\n",
    "\n",
    "La longitude de la lune par rapport à l'équinoxe et l'écliptique de l'an 2000 est alors :\n",
    "$$\n",
    "\\lambda_M = L_0 + 22640''.sin(l) + 769''.sin(2l) - 4586''.sin(l-2D) + 2370''.sin(2D) - 668''.sin(l') - 412''.sin(2F) - 212''.sin(2l-2D) - 206''.sin(l+l'-2D) + 192''.sin(l+2D) - 165''.sin(l'-2D) + 148''.sin(l-l') - 125''.sin(D) - 110''.sin(l+l') - 55''.sin(2F-2D)\n",
    "$$\n",
    "\n",
    "Avec les deux premier termes qui décrivent le mouvement d'une ellispe d'eccentricité $e = 0.055$, et les autres termes les perturbations.\n",
    "\n",
    "La latitude de la lune est donnée par :\n",
    "$$\n",
    "\\beta_M = 18520''sin(F+\\lambda-L_0 + 412''.sin2F + 541''.sinl) - 526''.sin(F-2D) + 44''.sin(l+F-2D) - 31''.sin(-l+F-2D) - 25''.sin(-2l+F) - 23''.sin(l'+F-2D)+21''.sin(-l+F) + 11''.sin(-l'+F-2D)\n",
    "$$\n",
    "\n",
    "Enfin, la distance de la Lune du centre de la Terre est donnée par :\n",
    "$$\n",
    "r_M = (385 000 - 20 905 cos(l) - 3699cos(2D-l) - 2956cos(2D) - 570cos(2l) + 246cos(2l-2D) - 205cos(l'-2D)-171cos(l+2D)-152cos(l+l'-2D)) \n",
    "km $$\n",
    "\n",
    "Ou les termes de moins de 150km ont été négligés.\n",
    "\n",
    "On alors, en se référrant à l'équateur :\n",
    "$$\n",
    "r_{x_{M}} = R_x(-\\epsilon)r_Mcos\\lambda_Mcos\\beta_M\n",
    "$$\n",
    "$$\n",
    "r_{y_{M}} = R_x(-\\epsilon)r_Msin\\lambda_Mcos\\beta_M\n",
    "$$\n",
    "$$\n",
    "r_{z_{M}} = R_x(-\\epsilon)r_Msin\\beta_M\n",
    "$$\n",
    "\n",
    "Et le vecteur unitaire de la Lune :\n",
    "$$\n",
    "e_{x_{L}} = R_x(-\\epsilon)cos\\lambda_Mcos\\beta_M\n",
    "$$\n",
    "$$\n",
    "e_{y_{L}} = R_x(-\\epsilon)sin\\lambda_Mcos\\beta_M\n",
    "$$\n",
    "$$\n",
    "e_{z_{L}} = R_x(-\\epsilon)sin\\beta_M\n",
    "$$\n",
    "\n",
    "Alors, de même : \n",
    "$$\n",
    "\\ddot{r} \\approx \\frac{GMr}{s^3}(-e_r+3e_L(e_Le_r))\n",
    "$$\n"
   ]
  },
  {
   "cell_type": "code",
   "execution_count": null,
   "id": "da8af1c4",
   "metadata": {},
   "outputs": [],
   "source": []
  }
 ],
 "metadata": {
  "kernelspec": {
   "display_name": "Python 3 (ipykernel)",
   "language": "python",
   "name": "python3"
  },
  "language_info": {
   "codemirror_mode": {
    "name": "ipython",
    "version": 3
   },
   "file_extension": ".py",
   "mimetype": "text/x-python",
   "name": "python",
   "nbconvert_exporter": "python",
   "pygments_lexer": "ipython3",
   "version": "3.7.3"
  }
 },
 "nbformat": 4,
 "nbformat_minor": 5
}
