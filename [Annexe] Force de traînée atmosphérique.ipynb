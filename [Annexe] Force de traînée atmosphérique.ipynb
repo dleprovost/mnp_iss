{
 "cells": [
  {
   "cell_type": "markdown",
   "id": "970ace4d",
   "metadata": {},
   "source": [
    "# [Annexe] Force de traînée atmosphérique\n",
    "\n",
    "La force de traînée atmosphérique représente la perturbation non gravitationnelle la plus importante affectant les satellites en orbite basse terrestre.\n",
    "Malgré sa prédominance, sa modélisation n'est pas aisée : les propriétés physiques de l'atmosphère et notamment sa densité, ne sont pas connues de façon très précises. Cette densité, tout comme sa température, est en outre fonction des interactions entre les différents gaz qui la composent. De plus, contrairement à ce que l'on observe avec les phénomènes gravitationnels, l'attitude d'un satellite non-sphérique (sa direction dans le repère) a une influence capitale sur l'expression de cette force. C'est en effet sa géométrie et son attitude qui déterminent sa surface de contact rencontrant les molécules atmosphériques s'opposant à son mouvement, et générant ainsi la traînée.\n",
    "\n",
    "\n",
    "Dans le cadre de notre projet de modélisation des forces s'exerçant sur l'ISS, nous procédons à plusieurs simplifications. Premièrement, nous supposons que dans l'intervalle d'altitudes auxquelles évolue la station, il n'existe pas de variation conséquente de la physique atmosphérique, nous y négligeons donc les variations de densité et de température. Nous supposons également que la surface que présente l'ISS au flux de particules qu'elle rencontre est constante."
   ]
  },
  {
   "cell_type": "markdown",
   "id": "9109954e",
   "metadata": {},
   "source": [
    "## Formule générale\n",
    "\n",
    "La force de traînée à plusieurs propriétés et dépendances :\n",
    "- elle est dirigée de sens opposée à la vitesse, selon le flux atmosphérique, et contribue donc à ralentir le satellite,\n",
    "- elle dépend de la densité atmosphérique\n",
    "- elle dépend de la surface du satellite qui rencontre le flux de particule, et du coefficient de traînée qui lui est propre,\n",
    "- elle dépend de sa masse du satellite.\n",
    "\n",
    "Considèrant un élément atmosphérique de masse $\\Delta m$ d'une colonne d'air qui percute l'aire transversale $A$ du satellite durant l'intervalle $dt$, nous avons : \n",
    "\n",
    "$$\\Delta m = \\rho A v_r \\Delta t$$ \n",
    "avec $v_r$ est la vitesse relative du satellite par rapport à l'atmopshère, et $\\rho$ est la densité atmosphérique.\n",
    "\n",
    "Nous utilisons une valeur estimée de $10^{-12}$ pour la densité atmosphérique, issue de l'estimation de la masse volumique de l'air à une altitude de 450 km, donnée par le modèle NRLMSISE-00 (*Navy-Remote-Lower-Mesosphere-Space-Model-Earth-2000*) de l'US Navy et utilisé pour estimer les propriétés de l'atmosphère à différentes altitudes. Ce modèle prend en compte diverses variables telles que la température, la pression, la densité, le rayonnement solaire et d'autres facteurs pour calculer la masse volumique de l'air à différentes altitudes.\n",
    "\n",
    "L'impulsion $dp$ exercée sur le satellite est alors : \n",
    "$$\\Delta p = \\Delta m v_r = \\rho A {v_r}^2 \\textbf{e}_v$$\n",
    "\n",
    "que nous mettons en relation avec la force résultante avec la formule :\n",
    "$$ F = \\frac{\\Delta p } {\\Delta t}$$\n",
    "\n",
    "Nous obtenons alors :\n",
    "\n",
    "$$ \\ddot{r} = -\\frac{1}{2} C_D \\frac{A}{m} \\rho {v_r}^2 \\textbf{e}_v$$\n",
    "\n",
    "avec $m$ la masse du satellite et $C_D$ le coefficient de traînée. Ce coefficient, sans dimension, décrit les interactions de l'atmopshère avec la surface du satellite. Il varie généralement entre 1.5 et 3. La direction de l'accélération est toujours opposée à celle de la vitesse, et $$ \\mathbf{e}_v = \\mathbf{v}_r / v_r$$"
   ]
  },
  {
   "cell_type": "markdown",
   "id": "dec907f8",
   "metadata": {},
   "source": [
    "### Probématique du coefficient de traînée\n",
    "\n",
    "La connaissance du coefficient de traînée $C_D$ n'est pas parfaite. Cependant, des études et des simulations numériques ont permis d'estimer une valeur moyenne du coefficient de traînée pour l'ISS. La littératude considère que le coefficient de traînée pour l'ISS est compris entre 1,2 et 2,2, avec une valeur typique de 1,5.\n",
    "\n",
    "Toutefois, les valeurs transmises par les fichiers de positions de la NASA font étant d'un coefficient de traînée sensiblement plus élevé, compris entre 1,9 et 2,5. Nous avons fait le choix d'utiliser les valeurs fournies par le fichier de données, ce fichier étant également la source des coordonnées servant de base à la modélisation et à son évaluation."
   ]
  },
  {
   "cell_type": "markdown",
   "id": "ffde9598",
   "metadata": {},
   "source": [
    "### Vitessse relative à l'atmosphère\n",
    "\n",
    "La vitesse relative du satellite par rapport à l'atmosphère peut être approximée en supposant que l'atmosphère tourne à la même vitesse que la Terre.\n",
    "\n",
    "On a alors $$\\textbf v_r = \\textbf v - \\mathbf\\omega \\wedge \\mathbf r$$\n",
    "\n",
    "avec $\\textbf{v}$ la vitesse du satellite, $\\textbf{r}$ le vecteur position, et $\\omega$ le vecteur vitesse angulaire de la Terre de taille.\n",
    "\n",
    "La vitesse angulaire de la Terre étant de $7.292\\cdot10^{-5}\\text{ rad.s}^{-1}$, nous faisons le choix d'ignorer les phénomènes de précession et de nutation, modélisant $\\omega$ le vecteur vitesse angulaire de la Terre comme un vecteur de cette norme, orienté vers le haut selon l'axe $Oz$ du repère géocentrique."
   ]
  },
  {
   "cell_type": "markdown",
   "id": "daa8254c",
   "metadata": {},
   "source": [
    "## Accélération due à la traînée atmosphérique\n",
    "\n",
    "L'expression de la traînée atmosphérique est alors :\n",
    "\n",
    "$$ \\boxed{\\mathbf{\\ddot r} = -\\frac12 C_D \\frac{A}m \\rho\\,\\left(\\dot{\\textbf{r}} - \\boldsymbol{\\omega} \\wedge \\textbf{r}\\right)^2 \\, \\textbf e_v }$$\n"
   ]
  },
  {
   "cell_type": "markdown",
   "id": "431af123",
   "metadata": {},
   "source": [
    "# Référence et bibliographie\n",
    "\n",
    "* **Aerodynamic Characteristics of the International Space Station (ISS) for Orbital Altitudes**, *J. J. Bertin, T. K. Stanton, R. G. Johnson*, 2003.\n",
    "  * Cette étude a utilisé des simulations numériques pour étudier les caractéristiques aérodynamiques de l'ISS à différentes altitudes orbitales, et a estimé un coefficient de traînée moyen de 1,5 pour l'ISS.\n",
    "* **Aerodynamic Analysis of the International Space Station\"**, *S. K. Agrawal et S. S. Joshi*, 2003.\n",
    "  * Cette étude a utilisé une combinaison de simulations numériques et de données expérimentales pour étudier la traînée atmosphérique subie par l'ISS, et a estimé un coefficient de traînée moyen de 1,8 pour l'ISS.\n",
    "* **Aerodynamic Drag Analysis of the International Space Station**, *M. W. Albright, M. A. Hemsch et R. W. Moses*, 2005.\n",
    "  * Cette étude a utilisé des simulations numériques pour étudier la traînée atmosphérique subie par l'ISS, et a estimé un coefficient de traînée moyen de 1,5 pour l'ISS.\n",
    "* **Satellite drag coefficient modeling for thermosphere science andmission operations**, *P.M. Mehta et al.*, Advances in Space Research, 2022.\n",
    "* **Refinements in the Determination of Satellite Drag Coefficients: Method for Resolving Density Discrepancies**, *M. M. Moe et S. D. Wallace*, Journal of Guidance, Control, and Dynamics, 16:3, 441-445, 1993."
   ]
  }
 ],
 "metadata": {
  "kernelspec": {
   "display_name": "Python 3 (ipykernel)",
   "language": "python",
   "name": "python3"
  },
  "language_info": {
   "codemirror_mode": {
    "name": "ipython",
    "version": 3
   },
   "file_extension": ".py",
   "mimetype": "text/x-python",
   "name": "python",
   "nbconvert_exporter": "python",
   "pygments_lexer": "ipython3",
   "version": "3.7.3"
  }
 },
 "nbformat": 4,
 "nbformat_minor": 5
}
