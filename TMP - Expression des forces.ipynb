{
 "cells": [
  {
   "cell_type": "markdown",
   "id": "ee3afd3a",
   "metadata": {},
   "source": [
    "Force de gravitation (Terre) :\n",
    "$$\n",
    "\\ddot r = \\frac{GM}{\\mathbf{r}^3} \\mathbf{r}\n",
    "\\quad\\Rightarrow\\quad\n",
    "\\begin{cases}\n",
    "\\ddot x = x\\dfrac{GM}{\\left(x^2+y^2+z^2\\right)^\\frac32}\\\\\n",
    "\\ddot y = y\\dfrac{GM}{\\left(x^2+y^2+z^2\\right)^\\frac32}\\\\\n",
    "\\ddot z = z\\dfrac{GM}{\\left(x^2+y^2+z^2\\right)^\\frac32}\n",
    "\\end{cases}\n",
    "$$"
   ]
  },
  {
   "cell_type": "markdown",
   "id": "f140bd27",
   "metadata": {},
   "source": [
    "Influence du soleil :\n",
    "$$\n",
    "\\ddot r = \\frac{GM\\mathbf r}{\\mathbf s^3}\\big(-\\mathbf{e}_r+3\\mathbf{e}_s(\\mathbf{e}_s\\mathbf{e}_r)\\big)\n",
    "\\quad\\Rightarrow\\quad\n",
    "\\begin{cases}\n",
    "\\ddot x = \\\\\n",
    "\\ddot y = \\\\\n",
    "\\ddot z = \n",
    "\\end{cases}\n",
    "$$\n",
    "\n",
    "Influence de la lune :\n",
    "$$\n",
    "\\ddot r = \\frac{GM\\mathbf r}{\\mathbf l^3}\\big(-\\mathbf{e}_r+3\\mathbf{e}_l(\\mathbf{e}_l\\mathbf{e}_r)\\big)\n",
    "\\quad\\Rightarrow\\quad\n",
    "\\begin{cases}\n",
    "\\ddot x = \\\\\n",
    "\\ddot y = \\\\\n",
    "\\ddot z = \n",
    "\\end{cases}\n",
    "$$"
   ]
  },
  {
   "cell_type": "markdown",
   "id": "b1556cb3",
   "metadata": {},
   "source": [
    "Trainée atmosphérique :\n",
    "$$\n",
    " \\ddot{r} = -\\frac{1}{2} C_D \\frac{A}{m} \\rho_0 e^{-h/H_0} \\left(\\dot r - \\omega r\\right)^2 \\textbf{e}_v\n",
    " \\quad\\Rightarrow\\quad\n",
    "\\begin{cases}\n",
    "\\ddot x = \\\\\n",
    "\\ddot y = \\\\\n",
    "\\ddot z = \n",
    "\\end{cases}\n",
    "$$"
   ]
  },
  {
   "cell_type": "markdown",
   "id": "6c1c8730",
   "metadata": {},
   "source": [
    "Géopotentiel :\n",
    "$$\n",
    "\\begin{align*}\n",
    "\\ddot{r} &= \\nabla\\frac{GM}{r} + \\nabla\\frac{GM}{r} \\frac{R^2}{r^2} \\sqrt{5} \\frac{1}{2}\\left(3 \\sin^2\\varphi - 1\\right) \\bar{C}_{2 ,0} + \\nabla\\frac{GM}{r}\\frac{R^2}{r^2} 3\\cos^2\\varphi \\sqrt \\frac{5}{12} \\left(\\bar{C}_{2,2} \\cos(2\\lambda) + \\bar{S}_{2,2} \\sin(2\\lambda)\\right)\\\\\n",
    "&\\Rightarrow\\quad\n",
    "\\begin{cases}\n",
    "\\ddot x = \\\\\n",
    "\\ddot y = \\\\\n",
    "\\ddot z = \n",
    "\\end{cases}\n",
    "\\end{align*}\n",
    "$$"
   ]
  },
  {
   "cell_type": "code",
   "execution_count": null,
   "id": "3f8af1de",
   "metadata": {},
   "outputs": [],
   "source": []
  }
 ],
 "metadata": {
  "kernelspec": {
   "display_name": "Python 3 (ipykernel)",
   "language": "python",
   "name": "python3"
  },
  "language_info": {
   "codemirror_mode": {
    "name": "ipython",
    "version": 3
   },
   "file_extension": ".py",
   "mimetype": "text/x-python",
   "name": "python",
   "nbconvert_exporter": "python",
   "pygments_lexer": "ipython3",
   "version": "3.7.3"
  }
 },
 "nbformat": 4,
 "nbformat_minor": 5
}
